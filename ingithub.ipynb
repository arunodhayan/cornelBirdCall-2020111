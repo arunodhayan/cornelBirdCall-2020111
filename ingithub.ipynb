{
 "cells": [
  {
   "cell_type": "code",
   "execution_count": 1,
   "metadata": {},
   "outputs": [
    {
     "name": "stderr",
     "output_type": "stream",
     "text": [
      "/usr/local/lib/python3.6/dist-packages/librosa/util/decorators.py:9: NumbaDeprecationWarning: An import was requested from a module that has moved location.\n",
      "Import of 'jit' requested from: 'numba.decorators', please update to use 'numba.core.decorators' or pin to Numba version 0.48.0. This alias will not be present in Numba version 0.50.0.\n",
      "  from numba.decorators import jit as optional_jit\n",
      "Using TensorFlow backend.\n"
     ]
    }
   ],
   "source": [
    "import os\n",
    "import time\n",
    "\n",
    "import numpy as np\n",
    "import cv2\n",
    "import scipy\n",
    "from pydub import AudioSegment\n",
    "from sklearn.utils import shuffle\n",
    "import queue\n",
    "import os\n",
    "\n",
    "import numpy as np\n",
    "import librosa\n",
    "from pathlib import Path\n",
    "import pickle\n",
    "import cv2\n",
    "import pandas as pd\n",
    "\n",
    "import numpy as np\n",
    "import os\n",
    "from scipy import  misc\n",
    "from keras.models import model_from_json"
   ]
  },
  {
   "cell_type": "code",
   "execution_count": 2,
   "metadata": {},
   "outputs": [
    {
     "data": {
      "text/plain": [
       "['spec_bandpass_11',\n",
       " '.~lock.example_test_audio_metadata.csv#',\n",
       " 'noise',\n",
       " 'spec_512_64_5sec_0sec',\n",
       " 'noise_bandpass_512_128',\n",
       " '0044_XC256543_001.png',\n",
       " 'train.csv',\n",
       " 'example_test_audio',\n",
       " 'sample_submission.csv',\n",
       " 'spec_512_64',\n",
       " 'test.csv',\n",
       " 'noise_512_64',\n",
       " 'labels.pkl',\n",
       " 'spec_bandpass_512_128',\n",
       " 'train_wavaudio',\n",
       " 'del.py',\n",
       " '.~lock.example_test_audio_summary.csv#',\n",
       " 'noise_512_64_5sec_0sec',\n",
       " 'spec',\n",
       " 'example_test_audio_metadata.csv',\n",
       " 'spec_512_128_5sec_0sec',\n",
       " 'noise_bandpass_11',\n",
       " 'noise_512_128_5sec_0sec',\n",
       " 'train',\n",
       " 'example_test_audio_summary.csv']"
      ]
     },
     "execution_count": 2,
     "metadata": {},
     "output_type": "execute_result"
    }
   ],
   "source": [
    "os.listdir('birdsong-recognition/')"
   ]
  },
  {
   "cell_type": "code",
   "execution_count": 3,
   "metadata": {},
   "outputs": [],
   "source": [
    "#labels as Pickle file\n",
    "classifier_f = open(\"int_to_word_spec_new_11july.pickle\", \"rb\")\n",
    "int_to_word_out = pickle.load(classifier_f)\n",
    "classifier_f.close()"
   ]
  },
  {
   "cell_type": "code",
   "execution_count": 4,
   "metadata": {},
   "outputs": [],
   "source": [
    "###############################################\n",
    "def getRandomState():\n",
    "\n",
    "    RANDOM_SEED = 1337\n",
    "    RANDOM = np.random.RandomState(RANDOM_SEED)\n",
    "\n",
    "    return RANDOM\n",
    "######################## CONFIG #########################\n",
    "RANDOM = getRandomState()\n",
    "\n",
    "SAMPLE_RATE= 44100\n",
    "SPEC_LENGTH= 5.0\n",
    "SPEC_OVERLAP= 0.0\n",
    "SPEC_MINLEN= 1.0\n",
    "SPEC_FMIN= 500\n",
    "SPEC_FMAX= 22000\n",
    "SPEC_TYPE='melspec'\n",
    "\n",
    "SPEC_SIGNAL_THRESHOLD= 0.0001\n",
    "IM_DIM = 1\n",
    "IM_SIZE = (512, 128)\n",
    "BATCH_SIZE=1\n",
    "NUM_CLASSES=264"
   ]
  },
  {
   "cell_type": "code",
   "execution_count": 5,
   "metadata": {},
   "outputs": [],
   "source": []
  },
  {
   "cell_type": "code",
   "execution_count": 6,
   "metadata": {},
   "outputs": [
    {
     "name": "stdout",
     "output_type": "stream",
     "text": [
      "Loaded model from disk\n"
     ]
    }
   ],
   "source": [
    "def load_model():\n",
    "    \n",
    "    # load json and create model\n",
    "    json_file = open('model_bird_spec_11thjuly.json', 'r')\n",
    "    loaded_model_json = json_file.read()\n",
    "    json_file.close()\n",
    "    loaded_model = model_from_json(loaded_model_json)\n",
    "    # load weights into new model\n",
    "    loaded_model.load_weights(\"model_bird_specwithoutmeta.h5\")\n",
    "    print(\"Loaded model from disk\")\n",
    "    return loaded_model\n",
    "\n",
    "model=load_model()"
   ]
  },
  {
   "cell_type": "code",
   "execution_count": 7,
   "metadata": {},
   "outputs": [
    {
     "data": {
      "text/html": [
       "<div>\n",
       "<style scoped>\n",
       "    .dataframe tbody tr th:only-of-type {\n",
       "        vertical-align: middle;\n",
       "    }\n",
       "\n",
       "    .dataframe tbody tr th {\n",
       "        vertical-align: top;\n",
       "    }\n",
       "\n",
       "    .dataframe thead th {\n",
       "        text-align: right;\n",
       "    }\n",
       "</style>\n",
       "<table border=\"1\" class=\"dataframe\">\n",
       "  <thead>\n",
       "    <tr style=\"text-align: right;\">\n",
       "      <th></th>\n",
       "      <th>site</th>\n",
       "      <th>row_id</th>\n",
       "      <th>seconds</th>\n",
       "      <th>audio_id</th>\n",
       "    </tr>\n",
       "  </thead>\n",
       "  <tbody>\n",
       "    <tr>\n",
       "      <th>0</th>\n",
       "      <td>site_1</td>\n",
       "      <td>site_1_b87d141f6dc24f69a51cdb5973fcd68a_5</td>\n",
       "      <td>5.0</td>\n",
       "      <td>b87d141f6dc24f69a51cdb5973fcd68a</td>\n",
       "    </tr>\n",
       "    <tr>\n",
       "      <th>1</th>\n",
       "      <td>site_1</td>\n",
       "      <td>site_1_b87d141f6dc24f69a51cdb5973fcd68a_10</td>\n",
       "      <td>10.0</td>\n",
       "      <td>b87d141f6dc24f69a51cdb5973fcd68a</td>\n",
       "    </tr>\n",
       "    <tr>\n",
       "      <th>2</th>\n",
       "      <td>site_1</td>\n",
       "      <td>site_1_b87d141f6dc24f69a51cdb5973fcd68a_15</td>\n",
       "      <td>15.0</td>\n",
       "      <td>b87d141f6dc24f69a51cdb5973fcd68a</td>\n",
       "    </tr>\n",
       "    <tr>\n",
       "      <th>3</th>\n",
       "      <td>site_1</td>\n",
       "      <td>site_1_b87d141f6dc24f69a51cdb5973fcd68a_20</td>\n",
       "      <td>20.0</td>\n",
       "      <td>b87d141f6dc24f69a51cdb5973fcd68a</td>\n",
       "    </tr>\n",
       "    <tr>\n",
       "      <th>4</th>\n",
       "      <td>site_1</td>\n",
       "      <td>site_1_b87d141f6dc24f69a51cdb5973fcd68a_25</td>\n",
       "      <td>25.0</td>\n",
       "      <td>b87d141f6dc24f69a51cdb5973fcd68a</td>\n",
       "    </tr>\n",
       "  </tbody>\n",
       "</table>\n",
       "</div>"
      ],
      "text/plain": [
       "     site                                      row_id  seconds  \\\n",
       "0  site_1   site_1_b87d141f6dc24f69a51cdb5973fcd68a_5      5.0   \n",
       "1  site_1  site_1_b87d141f6dc24f69a51cdb5973fcd68a_10     10.0   \n",
       "2  site_1  site_1_b87d141f6dc24f69a51cdb5973fcd68a_15     15.0   \n",
       "3  site_1  site_1_b87d141f6dc24f69a51cdb5973fcd68a_20     20.0   \n",
       "4  site_1  site_1_b87d141f6dc24f69a51cdb5973fcd68a_25     25.0   \n",
       "\n",
       "                           audio_id  \n",
       "0  b87d141f6dc24f69a51cdb5973fcd68a  \n",
       "1  b87d141f6dc24f69a51cdb5973fcd68a  \n",
       "2  b87d141f6dc24f69a51cdb5973fcd68a  \n",
       "3  b87d141f6dc24f69a51cdb5973fcd68a  \n",
       "4  b87d141f6dc24f69a51cdb5973fcd68a  "
      ]
     },
     "execution_count": 7,
     "metadata": {},
     "output_type": "execute_result"
    }
   ],
   "source": [
    "from pathlib import Path\n",
    "'''\n",
    "TEST = Path(\"birdsong-recognition/test_audio\").exists()\n",
    "\n",
    "if TEST:\n",
    "    DATA_DIR = \"birdsong-recognition/\"\n",
    "else:\n",
    "    # dataset created by @shonenkov, thanks!\n",
    "    DATA_DIR = \"birdcall-check/\"\n",
    "train_df = pd.read_csv('birdsong-recognition/train.csv')    \n",
    "ebird_codes = np.array(sorted(list(set(train_df['ebird_code']))))\n",
    "bird_to_idx = { bird: idx for idx, bird in enumerate(ebird_codes) }\n",
    "'''\n",
    "TEST_PATH = Path('birdsong-recognition') if os.path.exists('birdsong-recognition/test_audio') else Path('birdcall-check')\n",
    "\n",
    "TEST_AUDIO_PATH = TEST_PATH/'test_audio'\n",
    "test_df = pd.read_csv(TEST_PATH/'test.csv')\n",
    "test_df.head()"
   ]
  },
  {
   "cell_type": "code",
   "execution_count": 8,
   "metadata": {},
   "outputs": [],
   "source": [
    "def getSpecs(paths):\n",
    "    \n",
    "    specs = []\n",
    "    #noise = []\n",
    "    if row.site != 'site_3':\n",
    "        print (row.site)\n",
    "        end_seconds=int(row.seconds)\n",
    "        start_second = end_seconds-5\n",
    "        for spec in specsFromFile(paths,\n",
    "                                    rate=SAMPLE_RATE,\n",
    "                                    seconds=SPEC_LENGTH,\n",
    "                                    overlap=SPEC_OVERLAP,\n",
    "                                    minlen=SPEC_MINLEN,\n",
    "                                    fmin=SPEC_FMIN,\n",
    "                                    fmax=SPEC_FMAX,\n",
    "                                    start=start_second,\n",
    "                                    end=end_seconds,\n",
    "                                    spec_type=SPEC_TYPE,\n",
    "                                    shape=(IM_SIZE[1], IM_SIZE[0])):\n",
    "\n",
    "        # Determine signal to noise ratio\n",
    "        #s2n = signal2noise(spec)\n",
    "             specs = spec.reshape(-1, IM_DIM, IM_SIZE[1], IM_SIZE[0])\n",
    "    else:\n",
    "        end_seconds=-1\n",
    "        start_second = -1\n",
    "        #SPEC_LENGTH=10.0\n",
    "    # Get mel-specs for file\n",
    "    #print (start_second)\n",
    "    #print (end_seconds-start_second)\n",
    "        for spec in specsFromFile(paths,\n",
    "                                    rate=SAMPLE_RATE,\n",
    "                                    seconds=SPEC_LENGTH,\n",
    "                                    overlap=SPEC_OVERLAP,\n",
    "                                    minlen=SPEC_MINLEN,\n",
    "                                    fmin=SPEC_FMIN,\n",
    "                                    fmax=SPEC_FMAX,\n",
    "                                    start=start_second,\n",
    "                                    end=end_seconds,\n",
    "                                    spec_type=SPEC_TYPE,\n",
    "                                    shape=(IM_SIZE[1], IM_SIZE[0])):\n",
    "\n",
    "        # Determine signal to noise ratio\n",
    "        #s2n = signal2noise(spec)\n",
    "            spec = spec.reshape(-1, IM_DIM, IM_SIZE[1], IM_SIZE[0])\n",
    "            specs.append(spec)\n",
    "        #spec = spec.reshape(-1, IM_DIM, IM_SIZE[1], IM_SIZE[0])\n",
    "        #print (len(specs))\n",
    "        #noise.append(s2n)\n",
    "\n",
    "    # Shuffle arrays (we want to select randomly later)\n",
    "    #specs, noise = shuffle(specs, noise, random_state=RANDOM)\n",
    "\n",
    "    return specs"
   ]
  },
  {
   "cell_type": "code",
   "execution_count": 9,
   "metadata": {},
   "outputs": [],
   "source": [
    "def predictionPooling(p):\n",
    "    \n",
    "    #You can test different prediction pooling strategies here\n",
    "    if p.ndim == 2:\n",
    "\n",
    "        try:\n",
    "\n",
    "            # Median filtered pooling for monophonic recordings\n",
    "            row_median = np.median(p, axis=1, keepdims=True)\n",
    "            p[p < row_median * 1.5] = 0.0\n",
    "            p_pool = np.mean((p * 2) ** 2, axis=0)\n",
    "            p_pool -= p_pool.min()\n",
    "            if p_pool.max() > 1.0:\n",
    "                p_pool /= p_pool.max()\n",
    "\n",
    "            # Mean exponential pooling for monophonic recordings\n",
    "            #p_pool = np.mean((p * 2) ** 2, axis=0)\n",
    "            #p_pool[p_pool > 1.0] = 1.0\n",
    "\n",
    "            # Simple average pooling\n",
    "            #p_pool = np.mean(p, axis=0)\n",
    "            #p_pool = sigmoid(p_pool)\n",
    "\n",
    "        except:\n",
    "            p_pool = cfg.getRandomState().normal(0.0, 1.0, (p.shape[1]))\n",
    "        \n",
    "    else:\n",
    "        p_pool = p\n",
    "\n",
    "    return p_pool"
   ]
  },
  {
   "cell_type": "code",
   "execution_count": 10,
   "metadata": {},
   "outputs": [],
   "source": [
    "##################################################################\n",
    "# -*- coding: utf-8 -*-\n",
    "#Loading images with CPU background threads during GPU forward passes saves a lot of time\n",
    "#Credit: J. Schlüter (https://github.com/Lasagne/Lasagne/issues/12)\n",
    "def threadedBatchGenerator(generator, num_cached=24):\n",
    "    \n",
    "    #import Queue\n",
    "    queues = queue.Queue(maxsize=num_cached)\n",
    "    sentinel = object()  # guaranteed unique reference\n",
    "\n",
    "    #define producer (putting items into queue)\n",
    "    def producer():\n",
    "        for item in generator:\n",
    "            queues.put(item)\n",
    "        queues.put(sentinel)\n",
    "\n",
    "    #start producer (in a background thread)\n",
    "    import threading\n",
    "    thread = threading.Thread(target=producer)\n",
    "    thread.daemon = True\n",
    "    thread.start()\n",
    "\n",
    "    #run as consumer (read items from queue, in current thread)\n",
    "    item = queues.get()\n",
    "    while item is not sentinel:\n",
    "        yield item\n",
    "        queues.task_done()\n",
    "        item = queues.get()\n",
    "\n"
   ]
  },
  {
   "cell_type": "code",
   "execution_count": 11,
   "metadata": {},
   "outputs": [
    {
     "name": "stdout",
     "output_type": "stream",
     "text": [
      "site_1\n"
     ]
    },
    {
     "name": "stderr",
     "output_type": "stream",
     "text": [
      "/usr/local/lib/python3.6/dist-packages/librosa/core/audio.py:161: UserWarning: PySoundFile failed. Trying audioread instead.\n",
      "  warnings.warn('PySoundFile failed. Trying audioread instead.')\n"
     ]
    },
    {
     "name": "stdout",
     "output_type": "stream",
     "text": [
      "site_1\n"
     ]
    },
    {
     "name": "stderr",
     "output_type": "stream",
     "text": [
      "/usr/local/lib/python3.6/dist-packages/librosa/core/audio.py:161: UserWarning: PySoundFile failed. Trying audioread instead.\n",
      "  warnings.warn('PySoundFile failed. Trying audioread instead.')\n"
     ]
    },
    {
     "name": "stdout",
     "output_type": "stream",
     "text": [
      "site_1\n"
     ]
    },
    {
     "name": "stderr",
     "output_type": "stream",
     "text": [
      "/usr/local/lib/python3.6/dist-packages/librosa/core/audio.py:161: UserWarning: PySoundFile failed. Trying audioread instead.\n",
      "  warnings.warn('PySoundFile failed. Trying audioread instead.')\n"
     ]
    },
    {
     "name": "stdout",
     "output_type": "stream",
     "text": [
      "site_1\n"
     ]
    },
    {
     "name": "stderr",
     "output_type": "stream",
     "text": [
      "/usr/local/lib/python3.6/dist-packages/librosa/core/audio.py:161: UserWarning: PySoundFile failed. Trying audioread instead.\n",
      "  warnings.warn('PySoundFile failed. Trying audioread instead.')\n"
     ]
    },
    {
     "name": "stdout",
     "output_type": "stream",
     "text": [
      "site_1\n"
     ]
    },
    {
     "name": "stderr",
     "output_type": "stream",
     "text": [
      "/usr/local/lib/python3.6/dist-packages/librosa/core/audio.py:161: UserWarning: PySoundFile failed. Trying audioread instead.\n",
      "  warnings.warn('PySoundFile failed. Trying audioread instead.')\n"
     ]
    },
    {
     "name": "stdout",
     "output_type": "stream",
     "text": [
      "site_1\n"
     ]
    },
    {
     "name": "stderr",
     "output_type": "stream",
     "text": [
      "/usr/local/lib/python3.6/dist-packages/librosa/core/audio.py:161: UserWarning: PySoundFile failed. Trying audioread instead.\n",
      "  warnings.warn('PySoundFile failed. Trying audioread instead.')\n"
     ]
    },
    {
     "name": "stdout",
     "output_type": "stream",
     "text": [
      "site_1\n"
     ]
    },
    {
     "name": "stderr",
     "output_type": "stream",
     "text": [
      "/usr/local/lib/python3.6/dist-packages/librosa/core/audio.py:161: UserWarning: PySoundFile failed. Trying audioread instead.\n",
      "  warnings.warn('PySoundFile failed. Trying audioread instead.')\n"
     ]
    },
    {
     "name": "stdout",
     "output_type": "stream",
     "text": [
      "site_1\n"
     ]
    },
    {
     "name": "stderr",
     "output_type": "stream",
     "text": [
      "/usr/local/lib/python3.6/dist-packages/librosa/core/audio.py:161: UserWarning: PySoundFile failed. Trying audioread instead.\n",
      "  warnings.warn('PySoundFile failed. Trying audioread instead.')\n"
     ]
    },
    {
     "name": "stdout",
     "output_type": "stream",
     "text": [
      "site_1\n"
     ]
    },
    {
     "name": "stderr",
     "output_type": "stream",
     "text": [
      "/usr/local/lib/python3.6/dist-packages/librosa/core/audio.py:161: UserWarning: PySoundFile failed. Trying audioread instead.\n",
      "  warnings.warn('PySoundFile failed. Trying audioread instead.')\n"
     ]
    },
    {
     "name": "stdout",
     "output_type": "stream",
     "text": [
      "site_1\n"
     ]
    },
    {
     "name": "stderr",
     "output_type": "stream",
     "text": [
      "/usr/local/lib/python3.6/dist-packages/librosa/core/audio.py:161: UserWarning: PySoundFile failed. Trying audioread instead.\n",
      "  warnings.warn('PySoundFile failed. Trying audioread instead.')\n"
     ]
    },
    {
     "name": "stdout",
     "output_type": "stream",
     "text": [
      "site_1\n"
     ]
    },
    {
     "name": "stderr",
     "output_type": "stream",
     "text": [
      "/usr/local/lib/python3.6/dist-packages/librosa/core/audio.py:161: UserWarning: PySoundFile failed. Trying audioread instead.\n",
      "  warnings.warn('PySoundFile failed. Trying audioread instead.')\n"
     ]
    },
    {
     "name": "stdout",
     "output_type": "stream",
     "text": [
      "site_1\n"
     ]
    },
    {
     "name": "stderr",
     "output_type": "stream",
     "text": [
      "/usr/local/lib/python3.6/dist-packages/librosa/core/audio.py:161: UserWarning: PySoundFile failed. Trying audioread instead.\n",
      "  warnings.warn('PySoundFile failed. Trying audioread instead.')\n"
     ]
    },
    {
     "name": "stdout",
     "output_type": "stream",
     "text": [
      "site_1\n"
     ]
    },
    {
     "name": "stderr",
     "output_type": "stream",
     "text": [
      "/usr/local/lib/python3.6/dist-packages/librosa/core/audio.py:161: UserWarning: PySoundFile failed. Trying audioread instead.\n",
      "  warnings.warn('PySoundFile failed. Trying audioread instead.')\n"
     ]
    },
    {
     "name": "stdout",
     "output_type": "stream",
     "text": [
      "site_1\n"
     ]
    },
    {
     "name": "stderr",
     "output_type": "stream",
     "text": [
      "/usr/local/lib/python3.6/dist-packages/librosa/core/audio.py:161: UserWarning: PySoundFile failed. Trying audioread instead.\n",
      "  warnings.warn('PySoundFile failed. Trying audioread instead.')\n"
     ]
    },
    {
     "name": "stdout",
     "output_type": "stream",
     "text": [
      "site_1\n"
     ]
    },
    {
     "name": "stderr",
     "output_type": "stream",
     "text": [
      "/usr/local/lib/python3.6/dist-packages/librosa/core/audio.py:161: UserWarning: PySoundFile failed. Trying audioread instead.\n",
      "  warnings.warn('PySoundFile failed. Trying audioread instead.')\n"
     ]
    },
    {
     "name": "stdout",
     "output_type": "stream",
     "text": [
      "site_1\n"
     ]
    },
    {
     "name": "stderr",
     "output_type": "stream",
     "text": [
      "/usr/local/lib/python3.6/dist-packages/librosa/core/audio.py:161: UserWarning: PySoundFile failed. Trying audioread instead.\n",
      "  warnings.warn('PySoundFile failed. Trying audioread instead.')\n"
     ]
    },
    {
     "name": "stdout",
     "output_type": "stream",
     "text": [
      "site_1\n"
     ]
    },
    {
     "name": "stderr",
     "output_type": "stream",
     "text": [
      "/usr/local/lib/python3.6/dist-packages/librosa/core/audio.py:161: UserWarning: PySoundFile failed. Trying audioread instead.\n",
      "  warnings.warn('PySoundFile failed. Trying audioread instead.')\n"
     ]
    },
    {
     "name": "stdout",
     "output_type": "stream",
     "text": [
      "site_1\n"
     ]
    },
    {
     "name": "stderr",
     "output_type": "stream",
     "text": [
      "/usr/local/lib/python3.6/dist-packages/librosa/core/audio.py:161: UserWarning: PySoundFile failed. Trying audioread instead.\n",
      "  warnings.warn('PySoundFile failed. Trying audioread instead.')\n"
     ]
    },
    {
     "name": "stdout",
     "output_type": "stream",
     "text": [
      "site_1\n"
     ]
    },
    {
     "name": "stderr",
     "output_type": "stream",
     "text": [
      "/usr/local/lib/python3.6/dist-packages/librosa/core/audio.py:161: UserWarning: PySoundFile failed. Trying audioread instead.\n",
      "  warnings.warn('PySoundFile failed. Trying audioread instead.')\n"
     ]
    },
    {
     "name": "stdout",
     "output_type": "stream",
     "text": [
      "site_1\n"
     ]
    },
    {
     "name": "stderr",
     "output_type": "stream",
     "text": [
      "/usr/local/lib/python3.6/dist-packages/librosa/core/audio.py:161: UserWarning: PySoundFile failed. Trying audioread instead.\n",
      "  warnings.warn('PySoundFile failed. Trying audioread instead.')\n"
     ]
    },
    {
     "name": "stdout",
     "output_type": "stream",
     "text": [
      "site_1\n"
     ]
    },
    {
     "name": "stderr",
     "output_type": "stream",
     "text": [
      "/usr/local/lib/python3.6/dist-packages/librosa/core/audio.py:161: UserWarning: PySoundFile failed. Trying audioread instead.\n",
      "  warnings.warn('PySoundFile failed. Trying audioread instead.')\n"
     ]
    },
    {
     "name": "stdout",
     "output_type": "stream",
     "text": [
      "site_1\n"
     ]
    },
    {
     "name": "stderr",
     "output_type": "stream",
     "text": [
      "/usr/local/lib/python3.6/dist-packages/librosa/core/audio.py:161: UserWarning: PySoundFile failed. Trying audioread instead.\n",
      "  warnings.warn('PySoundFile failed. Trying audioread instead.')\n"
     ]
    },
    {
     "name": "stdout",
     "output_type": "stream",
     "text": [
      "site_1\n"
     ]
    },
    {
     "name": "stderr",
     "output_type": "stream",
     "text": [
      "/usr/local/lib/python3.6/dist-packages/librosa/core/audio.py:161: UserWarning: PySoundFile failed. Trying audioread instead.\n",
      "  warnings.warn('PySoundFile failed. Trying audioread instead.')\n"
     ]
    },
    {
     "name": "stdout",
     "output_type": "stream",
     "text": [
      "site_1\n"
     ]
    },
    {
     "name": "stderr",
     "output_type": "stream",
     "text": [
      "/usr/local/lib/python3.6/dist-packages/librosa/core/audio.py:161: UserWarning: PySoundFile failed. Trying audioread instead.\n",
      "  warnings.warn('PySoundFile failed. Trying audioread instead.')\n"
     ]
    },
    {
     "name": "stdout",
     "output_type": "stream",
     "text": [
      "site_1\n"
     ]
    },
    {
     "name": "stderr",
     "output_type": "stream",
     "text": [
      "/usr/local/lib/python3.6/dist-packages/librosa/core/audio.py:161: UserWarning: PySoundFile failed. Trying audioread instead.\n",
      "  warnings.warn('PySoundFile failed. Trying audioread instead.')\n"
     ]
    },
    {
     "name": "stdout",
     "output_type": "stream",
     "text": [
      "site_1\n"
     ]
    },
    {
     "name": "stderr",
     "output_type": "stream",
     "text": [
      "/usr/local/lib/python3.6/dist-packages/librosa/core/audio.py:161: UserWarning: PySoundFile failed. Trying audioread instead.\n",
      "  warnings.warn('PySoundFile failed. Trying audioread instead.')\n"
     ]
    },
    {
     "name": "stdout",
     "output_type": "stream",
     "text": [
      "site_1\n"
     ]
    },
    {
     "name": "stderr",
     "output_type": "stream",
     "text": [
      "/usr/local/lib/python3.6/dist-packages/librosa/core/audio.py:161: UserWarning: PySoundFile failed. Trying audioread instead.\n",
      "  warnings.warn('PySoundFile failed. Trying audioread instead.')\n"
     ]
    },
    {
     "name": "stdout",
     "output_type": "stream",
     "text": [
      "site_1\n"
     ]
    },
    {
     "name": "stderr",
     "output_type": "stream",
     "text": [
      "/usr/local/lib/python3.6/dist-packages/librosa/core/audio.py:161: UserWarning: PySoundFile failed. Trying audioread instead.\n",
      "  warnings.warn('PySoundFile failed. Trying audioread instead.')\n"
     ]
    },
    {
     "name": "stdout",
     "output_type": "stream",
     "text": [
      "site_1\n"
     ]
    },
    {
     "name": "stderr",
     "output_type": "stream",
     "text": [
      "/usr/local/lib/python3.6/dist-packages/librosa/core/audio.py:161: UserWarning: PySoundFile failed. Trying audioread instead.\n",
      "  warnings.warn('PySoundFile failed. Trying audioread instead.')\n"
     ]
    },
    {
     "name": "stdout",
     "output_type": "stream",
     "text": [
      "site_1\n"
     ]
    },
    {
     "name": "stderr",
     "output_type": "stream",
     "text": [
      "/usr/local/lib/python3.6/dist-packages/librosa/core/audio.py:161: UserWarning: PySoundFile failed. Trying audioread instead.\n",
      "  warnings.warn('PySoundFile failed. Trying audioread instead.')\n"
     ]
    },
    {
     "name": "stdout",
     "output_type": "stream",
     "text": [
      "site_1\n"
     ]
    },
    {
     "name": "stderr",
     "output_type": "stream",
     "text": [
      "/usr/local/lib/python3.6/dist-packages/librosa/core/audio.py:161: UserWarning: PySoundFile failed. Trying audioread instead.\n",
      "  warnings.warn('PySoundFile failed. Trying audioread instead.')\n"
     ]
    },
    {
     "name": "stdout",
     "output_type": "stream",
     "text": [
      "site_1\n"
     ]
    },
    {
     "name": "stderr",
     "output_type": "stream",
     "text": [
      "/usr/local/lib/python3.6/dist-packages/librosa/core/audio.py:161: UserWarning: PySoundFile failed. Trying audioread instead.\n",
      "  warnings.warn('PySoundFile failed. Trying audioread instead.')\n"
     ]
    },
    {
     "name": "stdout",
     "output_type": "stream",
     "text": [
      "site_2\n"
     ]
    },
    {
     "name": "stderr",
     "output_type": "stream",
     "text": [
      "/usr/local/lib/python3.6/dist-packages/librosa/core/audio.py:161: UserWarning: PySoundFile failed. Trying audioread instead.\n",
      "  warnings.warn('PySoundFile failed. Trying audioread instead.')\n"
     ]
    },
    {
     "name": "stdout",
     "output_type": "stream",
     "text": [
      "site_2\n"
     ]
    },
    {
     "name": "stderr",
     "output_type": "stream",
     "text": [
      "/usr/local/lib/python3.6/dist-packages/librosa/core/audio.py:161: UserWarning: PySoundFile failed. Trying audioread instead.\n",
      "  warnings.warn('PySoundFile failed. Trying audioread instead.')\n"
     ]
    },
    {
     "name": "stdout",
     "output_type": "stream",
     "text": [
      "site_2\n"
     ]
    },
    {
     "name": "stderr",
     "output_type": "stream",
     "text": [
      "/usr/local/lib/python3.6/dist-packages/librosa/core/audio.py:161: UserWarning: PySoundFile failed. Trying audioread instead.\n",
      "  warnings.warn('PySoundFile failed. Trying audioread instead.')\n"
     ]
    },
    {
     "name": "stdout",
     "output_type": "stream",
     "text": [
      "site_2\n"
     ]
    },
    {
     "name": "stderr",
     "output_type": "stream",
     "text": [
      "/usr/local/lib/python3.6/dist-packages/librosa/core/audio.py:161: UserWarning: PySoundFile failed. Trying audioread instead.\n",
      "  warnings.warn('PySoundFile failed. Trying audioread instead.')\n"
     ]
    },
    {
     "name": "stdout",
     "output_type": "stream",
     "text": [
      "site_2\n"
     ]
    },
    {
     "name": "stderr",
     "output_type": "stream",
     "text": [
      "/usr/local/lib/python3.6/dist-packages/librosa/core/audio.py:161: UserWarning: PySoundFile failed. Trying audioread instead.\n",
      "  warnings.warn('PySoundFile failed. Trying audioread instead.')\n"
     ]
    },
    {
     "name": "stdout",
     "output_type": "stream",
     "text": [
      "site_2\n"
     ]
    },
    {
     "name": "stderr",
     "output_type": "stream",
     "text": [
      "/usr/local/lib/python3.6/dist-packages/librosa/core/audio.py:161: UserWarning: PySoundFile failed. Trying audioread instead.\n",
      "  warnings.warn('PySoundFile failed. Trying audioread instead.')\n"
     ]
    },
    {
     "name": "stdout",
     "output_type": "stream",
     "text": [
      "site_2\n"
     ]
    },
    {
     "name": "stderr",
     "output_type": "stream",
     "text": [
      "/usr/local/lib/python3.6/dist-packages/librosa/core/audio.py:161: UserWarning: PySoundFile failed. Trying audioread instead.\n",
      "  warnings.warn('PySoundFile failed. Trying audioread instead.')\n"
     ]
    },
    {
     "name": "stdout",
     "output_type": "stream",
     "text": [
      "site_2\n"
     ]
    },
    {
     "name": "stderr",
     "output_type": "stream",
     "text": [
      "/usr/local/lib/python3.6/dist-packages/librosa/core/audio.py:161: UserWarning: PySoundFile failed. Trying audioread instead.\n",
      "  warnings.warn('PySoundFile failed. Trying audioread instead.')\n"
     ]
    },
    {
     "name": "stdout",
     "output_type": "stream",
     "text": [
      "site_2\n"
     ]
    },
    {
     "name": "stderr",
     "output_type": "stream",
     "text": [
      "/usr/local/lib/python3.6/dist-packages/librosa/core/audio.py:161: UserWarning: PySoundFile failed. Trying audioread instead.\n",
      "  warnings.warn('PySoundFile failed. Trying audioread instead.')\n"
     ]
    },
    {
     "name": "stdout",
     "output_type": "stream",
     "text": [
      "site_2\n"
     ]
    },
    {
     "name": "stderr",
     "output_type": "stream",
     "text": [
      "/usr/local/lib/python3.6/dist-packages/librosa/core/audio.py:161: UserWarning: PySoundFile failed. Trying audioread instead.\n",
      "  warnings.warn('PySoundFile failed. Trying audioread instead.')\n"
     ]
    },
    {
     "name": "stdout",
     "output_type": "stream",
     "text": [
      "site_2\n"
     ]
    },
    {
     "name": "stderr",
     "output_type": "stream",
     "text": [
      "/usr/local/lib/python3.6/dist-packages/librosa/core/audio.py:161: UserWarning: PySoundFile failed. Trying audioread instead.\n",
      "  warnings.warn('PySoundFile failed. Trying audioread instead.')\n"
     ]
    },
    {
     "name": "stdout",
     "output_type": "stream",
     "text": [
      "site_2\n"
     ]
    },
    {
     "name": "stderr",
     "output_type": "stream",
     "text": [
      "/usr/local/lib/python3.6/dist-packages/librosa/core/audio.py:161: UserWarning: PySoundFile failed. Trying audioread instead.\n",
      "  warnings.warn('PySoundFile failed. Trying audioread instead.')\n"
     ]
    },
    {
     "name": "stdout",
     "output_type": "stream",
     "text": [
      "site_2\n"
     ]
    },
    {
     "name": "stderr",
     "output_type": "stream",
     "text": [
      "/usr/local/lib/python3.6/dist-packages/librosa/core/audio.py:161: UserWarning: PySoundFile failed. Trying audioread instead.\n",
      "  warnings.warn('PySoundFile failed. Trying audioread instead.')\n"
     ]
    },
    {
     "name": "stdout",
     "output_type": "stream",
     "text": [
      "site_2\n"
     ]
    },
    {
     "name": "stderr",
     "output_type": "stream",
     "text": [
      "/usr/local/lib/python3.6/dist-packages/librosa/core/audio.py:161: UserWarning: PySoundFile failed. Trying audioread instead.\n",
      "  warnings.warn('PySoundFile failed. Trying audioread instead.')\n"
     ]
    },
    {
     "name": "stdout",
     "output_type": "stream",
     "text": [
      "site_2\n"
     ]
    },
    {
     "name": "stderr",
     "output_type": "stream",
     "text": [
      "/usr/local/lib/python3.6/dist-packages/librosa/core/audio.py:161: UserWarning: PySoundFile failed. Trying audioread instead.\n",
      "  warnings.warn('PySoundFile failed. Trying audioread instead.')\n"
     ]
    },
    {
     "name": "stdout",
     "output_type": "stream",
     "text": [
      "site_2\n"
     ]
    },
    {
     "name": "stderr",
     "output_type": "stream",
     "text": [
      "/usr/local/lib/python3.6/dist-packages/librosa/core/audio.py:161: UserWarning: PySoundFile failed. Trying audioread instead.\n",
      "  warnings.warn('PySoundFile failed. Trying audioread instead.')\n"
     ]
    },
    {
     "name": "stdout",
     "output_type": "stream",
     "text": [
      "site_2\n"
     ]
    },
    {
     "name": "stderr",
     "output_type": "stream",
     "text": [
      "/usr/local/lib/python3.6/dist-packages/librosa/core/audio.py:161: UserWarning: PySoundFile failed. Trying audioread instead.\n",
      "  warnings.warn('PySoundFile failed. Trying audioread instead.')\n"
     ]
    },
    {
     "name": "stdout",
     "output_type": "stream",
     "text": [
      "site_2\n"
     ]
    },
    {
     "name": "stderr",
     "output_type": "stream",
     "text": [
      "/usr/local/lib/python3.6/dist-packages/librosa/core/audio.py:161: UserWarning: PySoundFile failed. Trying audioread instead.\n",
      "  warnings.warn('PySoundFile failed. Trying audioread instead.')\n"
     ]
    },
    {
     "name": "stdout",
     "output_type": "stream",
     "text": [
      "site_2\n"
     ]
    },
    {
     "name": "stderr",
     "output_type": "stream",
     "text": [
      "/usr/local/lib/python3.6/dist-packages/librosa/core/audio.py:161: UserWarning: PySoundFile failed. Trying audioread instead.\n",
      "  warnings.warn('PySoundFile failed. Trying audioread instead.')\n"
     ]
    },
    {
     "name": "stdout",
     "output_type": "stream",
     "text": [
      "site_2\n"
     ]
    },
    {
     "name": "stderr",
     "output_type": "stream",
     "text": [
      "/usr/local/lib/python3.6/dist-packages/librosa/core/audio.py:161: UserWarning: PySoundFile failed. Trying audioread instead.\n",
      "  warnings.warn('PySoundFile failed. Trying audioread instead.')\n"
     ]
    },
    {
     "name": "stdout",
     "output_type": "stream",
     "text": [
      "site_2\n"
     ]
    },
    {
     "name": "stderr",
     "output_type": "stream",
     "text": [
      "/usr/local/lib/python3.6/dist-packages/librosa/core/audio.py:161: UserWarning: PySoundFile failed. Trying audioread instead.\n",
      "  warnings.warn('PySoundFile failed. Trying audioread instead.')\n"
     ]
    },
    {
     "name": "stdout",
     "output_type": "stream",
     "text": [
      "site_2\n"
     ]
    },
    {
     "name": "stderr",
     "output_type": "stream",
     "text": [
      "/usr/local/lib/python3.6/dist-packages/librosa/core/audio.py:161: UserWarning: PySoundFile failed. Trying audioread instead.\n",
      "  warnings.warn('PySoundFile failed. Trying audioread instead.')\n"
     ]
    },
    {
     "name": "stdout",
     "output_type": "stream",
     "text": [
      "site_2\n"
     ]
    },
    {
     "name": "stderr",
     "output_type": "stream",
     "text": [
      "/usr/local/lib/python3.6/dist-packages/librosa/core/audio.py:161: UserWarning: PySoundFile failed. Trying audioread instead.\n",
      "  warnings.warn('PySoundFile failed. Trying audioread instead.')\n"
     ]
    },
    {
     "name": "stdout",
     "output_type": "stream",
     "text": [
      "site_2\n"
     ]
    },
    {
     "name": "stderr",
     "output_type": "stream",
     "text": [
      "/usr/local/lib/python3.6/dist-packages/librosa/core/audio.py:161: UserWarning: PySoundFile failed. Trying audioread instead.\n",
      "  warnings.warn('PySoundFile failed. Trying audioread instead.')\n"
     ]
    },
    {
     "name": "stdout",
     "output_type": "stream",
     "text": [
      "site_2\n"
     ]
    },
    {
     "name": "stderr",
     "output_type": "stream",
     "text": [
      "/usr/local/lib/python3.6/dist-packages/librosa/core/audio.py:161: UserWarning: PySoundFile failed. Trying audioread instead.\n",
      "  warnings.warn('PySoundFile failed. Trying audioread instead.')\n"
     ]
    },
    {
     "name": "stdout",
     "output_type": "stream",
     "text": [
      "site_2\n"
     ]
    },
    {
     "name": "stderr",
     "output_type": "stream",
     "text": [
      "/usr/local/lib/python3.6/dist-packages/librosa/core/audio.py:161: UserWarning: PySoundFile failed. Trying audioread instead.\n",
      "  warnings.warn('PySoundFile failed. Trying audioread instead.')\n"
     ]
    },
    {
     "name": "stdout",
     "output_type": "stream",
     "text": [
      "site_2\n"
     ]
    },
    {
     "name": "stderr",
     "output_type": "stream",
     "text": [
      "/usr/local/lib/python3.6/dist-packages/librosa/core/audio.py:161: UserWarning: PySoundFile failed. Trying audioread instead.\n",
      "  warnings.warn('PySoundFile failed. Trying audioread instead.')\n"
     ]
    },
    {
     "name": "stdout",
     "output_type": "stream",
     "text": [
      "site_2\n"
     ]
    },
    {
     "name": "stderr",
     "output_type": "stream",
     "text": [
      "/usr/local/lib/python3.6/dist-packages/librosa/core/audio.py:161: UserWarning: PySoundFile failed. Trying audioread instead.\n",
      "  warnings.warn('PySoundFile failed. Trying audioread instead.')\n"
     ]
    },
    {
     "name": "stdout",
     "output_type": "stream",
     "text": [
      "site_2\n"
     ]
    },
    {
     "name": "stderr",
     "output_type": "stream",
     "text": [
      "/usr/local/lib/python3.6/dist-packages/librosa/core/audio.py:161: UserWarning: PySoundFile failed. Trying audioread instead.\n",
      "  warnings.warn('PySoundFile failed. Trying audioread instead.')\n"
     ]
    },
    {
     "name": "stdout",
     "output_type": "stream",
     "text": [
      "site_2\n"
     ]
    },
    {
     "name": "stderr",
     "output_type": "stream",
     "text": [
      "/usr/local/lib/python3.6/dist-packages/librosa/core/audio.py:161: UserWarning: PySoundFile failed. Trying audioread instead.\n",
      "  warnings.warn('PySoundFile failed. Trying audioread instead.')\n"
     ]
    },
    {
     "name": "stdout",
     "output_type": "stream",
     "text": [
      "site_2\n"
     ]
    },
    {
     "name": "stderr",
     "output_type": "stream",
     "text": [
      "/usr/local/lib/python3.6/dist-packages/librosa/core/audio.py:161: UserWarning: PySoundFile failed. Trying audioread instead.\n",
      "  warnings.warn('PySoundFile failed. Trying audioread instead.')\n"
     ]
    },
    {
     "name": "stdout",
     "output_type": "stream",
     "text": [
      "site_2\n"
     ]
    },
    {
     "name": "stderr",
     "output_type": "stream",
     "text": [
      "/usr/local/lib/python3.6/dist-packages/librosa/core/audio.py:161: UserWarning: PySoundFile failed. Trying audioread instead.\n",
      "  warnings.warn('PySoundFile failed. Trying audioread instead.')\n"
     ]
    },
    {
     "name": "stdout",
     "output_type": "stream",
     "text": [
      "site_2\n"
     ]
    },
    {
     "name": "stderr",
     "output_type": "stream",
     "text": [
      "/usr/local/lib/python3.6/dist-packages/librosa/core/audio.py:161: UserWarning: PySoundFile failed. Trying audioread instead.\n",
      "  warnings.warn('PySoundFile failed. Trying audioread instead.')\n"
     ]
    },
    {
     "name": "stdout",
     "output_type": "stream",
     "text": [
      "site_2\n"
     ]
    },
    {
     "name": "stderr",
     "output_type": "stream",
     "text": [
      "/usr/local/lib/python3.6/dist-packages/librosa/core/audio.py:161: UserWarning: PySoundFile failed. Trying audioread instead.\n",
      "  warnings.warn('PySoundFile failed. Trying audioread instead.')\n"
     ]
    },
    {
     "name": "stdout",
     "output_type": "stream",
     "text": [
      "site_2\n"
     ]
    },
    {
     "name": "stderr",
     "output_type": "stream",
     "text": [
      "/usr/local/lib/python3.6/dist-packages/librosa/core/audio.py:161: UserWarning: PySoundFile failed. Trying audioread instead.\n",
      "  warnings.warn('PySoundFile failed. Trying audioread instead.')\n"
     ]
    },
    {
     "name": "stdout",
     "output_type": "stream",
     "text": [
      "site_2\n"
     ]
    },
    {
     "name": "stderr",
     "output_type": "stream",
     "text": [
      "/usr/local/lib/python3.6/dist-packages/librosa/core/audio.py:161: UserWarning: PySoundFile failed. Trying audioread instead.\n",
      "  warnings.warn('PySoundFile failed. Trying audioread instead.')\n"
     ]
    },
    {
     "name": "stdout",
     "output_type": "stream",
     "text": [
      "site_2\n"
     ]
    },
    {
     "name": "stderr",
     "output_type": "stream",
     "text": [
      "/usr/local/lib/python3.6/dist-packages/librosa/core/audio.py:161: UserWarning: PySoundFile failed. Trying audioread instead.\n",
      "  warnings.warn('PySoundFile failed. Trying audioread instead.')\n"
     ]
    },
    {
     "name": "stdout",
     "output_type": "stream",
     "text": [
      "site_2\n"
     ]
    },
    {
     "name": "stderr",
     "output_type": "stream",
     "text": [
      "/usr/local/lib/python3.6/dist-packages/librosa/core/audio.py:161: UserWarning: PySoundFile failed. Trying audioread instead.\n",
      "  warnings.warn('PySoundFile failed. Trying audioread instead.')\n"
     ]
    },
    {
     "name": "stdout",
     "output_type": "stream",
     "text": [
      "site_2\n"
     ]
    },
    {
     "name": "stderr",
     "output_type": "stream",
     "text": [
      "/usr/local/lib/python3.6/dist-packages/librosa/core/audio.py:161: UserWarning: PySoundFile failed. Trying audioread instead.\n",
      "  warnings.warn('PySoundFile failed. Trying audioread instead.')\n",
      "/usr/local/lib/python3.6/dist-packages/librosa/core/audio.py:161: UserWarning: PySoundFile failed. Trying audioread instead.\n",
      "  warnings.warn('PySoundFile failed. Trying audioread instead.')\n",
      "/usr/local/lib/python3.6/dist-packages/librosa/core/audio.py:161: UserWarning: PySoundFile failed. Trying audioread instead.\n",
      "  warnings.warn('PySoundFile failed. Trying audioread instead.')\n",
      "/usr/local/lib/python3.6/dist-packages/librosa/core/audio.py:161: UserWarning: PySoundFile failed. Trying audioread instead.\n",
      "  warnings.warn('PySoundFile failed. Trying audioread instead.')\n",
      "/usr/local/lib/python3.6/dist-packages/librosa/core/audio.py:161: UserWarning: PySoundFile failed. Trying audioread instead.\n",
      "  warnings.warn('PySoundFile failed. Trying audioread instead.')\n",
      "/usr/local/lib/python3.6/dist-packages/librosa/core/audio.py:161: UserWarning: PySoundFile failed. Trying audioread instead.\n",
      "  warnings.warn('PySoundFile failed. Trying audioread instead.')\n"
     ]
    },
    {
     "name": "stdout",
     "output_type": "stream",
     "text": [
      "CPU times: user 7min 37s, sys: 1min 9s, total: 8min 47s\n",
      "Wall time: 2min 16s\n"
     ]
    }
   ],
   "source": [
    "%%time\n",
    "row_id_birds = {}\n",
    "spec_cnt = 0\n",
    "for i in range(len(test_df)):\n",
    "\n",
    "\n",
    "    row = test_df.iloc[i]\n",
    "    audio_id = row.audio_id\n",
    "    paths=TEST_AUDIO_PATH/(audio_id+'.mp3')\n",
    "    if row.site != 'site_3':\n",
    "        end_seconds=int(row.seconds)\n",
    "        start_second = end_seconds-5\n",
    "\n",
    "        \n",
    "\n",
    "        spec = (getSpecs(paths))\n",
    "\n",
    "        y=model.predict(spec)\n",
    "       # print (np.max(y)) \n",
    "       # print (int_to_word_out[np.argmax(y)])\n",
    "        if np.max(y)>=0.7:\n",
    "            row_id_birds[row.row_id] = ''.join(int_to_word_out[np.argmax(y)])\n",
    "        else: \n",
    "            row_id_birds[row.row_id] = 'nocall' \n",
    "\n",
    "            \n",
    "    else:\n",
    "        \n",
    "\n",
    "        spec = (getSpecs(paths))\n",
    "        predictions = []\n",
    "        results = []\n",
    "        for s in range(len(spec)):\n",
    "               \n",
    "                img = spec[s].reshape(-1, IM_DIM, IM_SIZE[1], IM_SIZE[0])\n",
    "\n",
    "                y=model.predict(img)\n",
    "\n",
    "               #print (np.max(y))\n",
    "  \n",
    "               \n",
    "                if len(predictions):\n",
    "                    predictions = np.vstack([predictions, y])  \n",
    "                else:\n",
    "                    predictions = y\n",
    "        #print (int_to_word_out[np.argmax(predictions)])            \n",
    "\n",
    "        for j in range(len(predictions)):\n",
    "            \n",
    "            #print (np.max(predictions[j])) \n",
    "            #print (int_to_word_out[np.argmax(predictions[j])])\n",
    "            if np.max(predictions[j])>=0.7:\n",
    "                    results.append(int_to_word_out[np.argmax(predictions[j])])\n",
    "                    mylist = list(dict.fromkeys(results))\n",
    "\n",
    "\n",
    "\n",
    "            else: \n",
    "                    \n",
    "                    results.append('nocall')\n",
    "                    mylist = list(dict.fromkeys(results))\n",
    "                    \n",
    "        if len(results)>1 and 'nocall' in mylist:\n",
    "            mylist.remove('nocall')\n",
    "            row_id_birds[row.row_id] = ','.join(mylist)        \n",
    "        else:  \n",
    "            row_id_birds[row.row_id] = ','.join(mylist)\n",
    "            \n",
    "\n",
    "         \n",
    "        "
   ]
  },
  {
   "cell_type": "code",
   "execution_count": null,
   "metadata": {},
   "outputs": [],
   "source": []
  },
  {
   "cell_type": "code",
   "execution_count": 14,
   "metadata": {},
   "outputs": [],
   "source": [
    "row_id_birds\n",
    "submission = pd.DataFrame({\n",
    "    'row_id': test_df.row_id.values,\n",
    "    'birds': [row_id_birds[row_id] for row_id in test_df.row_id.values]\n",
    "})"
   ]
  },
  {
   "cell_type": "code",
   "execution_count": 15,
   "metadata": {},
   "outputs": [
    {
     "data": {
      "text/html": [
       "<div>\n",
       "<style scoped>\n",
       "    .dataframe tbody tr th:only-of-type {\n",
       "        vertical-align: middle;\n",
       "    }\n",
       "\n",
       "    .dataframe tbody tr th {\n",
       "        vertical-align: top;\n",
       "    }\n",
       "\n",
       "    .dataframe thead th {\n",
       "        text-align: right;\n",
       "    }\n",
       "</style>\n",
       "<table border=\"1\" class=\"dataframe\">\n",
       "  <thead>\n",
       "    <tr style=\"text-align: right;\">\n",
       "      <th></th>\n",
       "      <th>row_id</th>\n",
       "      <th>birds</th>\n",
       "    </tr>\n",
       "  </thead>\n",
       "  <tbody>\n",
       "    <tr>\n",
       "      <th>0</th>\n",
       "      <td>site_1_b87d141f6dc24f69a51cdb5973fcd68a_5</td>\n",
       "      <td>aldfly</td>\n",
       "    </tr>\n",
       "    <tr>\n",
       "      <th>1</th>\n",
       "      <td>site_1_b87d141f6dc24f69a51cdb5973fcd68a_10</td>\n",
       "      <td>nocall</td>\n",
       "    </tr>\n",
       "    <tr>\n",
       "      <th>2</th>\n",
       "      <td>site_1_b87d141f6dc24f69a51cdb5973fcd68a_15</td>\n",
       "      <td>aldfly</td>\n",
       "    </tr>\n",
       "    <tr>\n",
       "      <th>3</th>\n",
       "      <td>site_1_b87d141f6dc24f69a51cdb5973fcd68a_20</td>\n",
       "      <td>nocall</td>\n",
       "    </tr>\n",
       "    <tr>\n",
       "      <th>4</th>\n",
       "      <td>site_1_b87d141f6dc24f69a51cdb5973fcd68a_25</td>\n",
       "      <td>aldfly</td>\n",
       "    </tr>\n",
       "    <tr>\n",
       "      <th>5</th>\n",
       "      <td>site_1_8e2380fc2c1348c2b859fb624300cb36_5</td>\n",
       "      <td>aldfly</td>\n",
       "    </tr>\n",
       "    <tr>\n",
       "      <th>6</th>\n",
       "      <td>site_1_8e2380fc2c1348c2b859fb624300cb36_10</td>\n",
       "      <td>wilfly</td>\n",
       "    </tr>\n",
       "    <tr>\n",
       "      <th>7</th>\n",
       "      <td>site_1_8e2380fc2c1348c2b859fb624300cb36_15</td>\n",
       "      <td>nocall</td>\n",
       "    </tr>\n",
       "    <tr>\n",
       "      <th>8</th>\n",
       "      <td>site_1_8e2380fc2c1348c2b859fb624300cb36_20</td>\n",
       "      <td>aldfly</td>\n",
       "    </tr>\n",
       "    <tr>\n",
       "      <th>9</th>\n",
       "      <td>site_1_8e2380fc2c1348c2b859fb624300cb36_25</td>\n",
       "      <td>nocall</td>\n",
       "    </tr>\n",
       "    <tr>\n",
       "      <th>10</th>\n",
       "      <td>site_1_8e2380fc2c1348c2b859fb624300cb36_30</td>\n",
       "      <td>aldfly</td>\n",
       "    </tr>\n",
       "    <tr>\n",
       "      <th>11</th>\n",
       "      <td>site_1_8e2380fc2c1348c2b859fb624300cb36_35</td>\n",
       "      <td>aldfly</td>\n",
       "    </tr>\n",
       "    <tr>\n",
       "      <th>12</th>\n",
       "      <td>site_1_2ee43f12169e46f2aa5c89164c29bbb2_5</td>\n",
       "      <td>aldfly</td>\n",
       "    </tr>\n",
       "    <tr>\n",
       "      <th>13</th>\n",
       "      <td>site_1_2ee43f12169e46f2aa5c89164c29bbb2_10</td>\n",
       "      <td>aldfly</td>\n",
       "    </tr>\n",
       "    <tr>\n",
       "      <th>14</th>\n",
       "      <td>site_1_2ee43f12169e46f2aa5c89164c29bbb2_15</td>\n",
       "      <td>aldfly</td>\n",
       "    </tr>\n",
       "    <tr>\n",
       "      <th>15</th>\n",
       "      <td>site_1_2ee43f12169e46f2aa5c89164c29bbb2_20</td>\n",
       "      <td>aldfly</td>\n",
       "    </tr>\n",
       "    <tr>\n",
       "      <th>16</th>\n",
       "      <td>site_1_2ee43f12169e46f2aa5c89164c29bbb2_25</td>\n",
       "      <td>aldfly</td>\n",
       "    </tr>\n",
       "    <tr>\n",
       "      <th>17</th>\n",
       "      <td>site_1_2ee43f12169e46f2aa5c89164c29bbb2_30</td>\n",
       "      <td>aldfly</td>\n",
       "    </tr>\n",
       "    <tr>\n",
       "      <th>18</th>\n",
       "      <td>site_1_2ee43f12169e46f2aa5c89164c29bbb2_35</td>\n",
       "      <td>aldfly</td>\n",
       "    </tr>\n",
       "    <tr>\n",
       "      <th>19</th>\n",
       "      <td>site_1_5f743253e68f4e179600d57addd8ec30_5</td>\n",
       "      <td>aldfly</td>\n",
       "    </tr>\n",
       "    <tr>\n",
       "      <th>20</th>\n",
       "      <td>site_1_5f743253e68f4e179600d57addd8ec30_10</td>\n",
       "      <td>aldfly</td>\n",
       "    </tr>\n",
       "    <tr>\n",
       "      <th>21</th>\n",
       "      <td>site_1_5f743253e68f4e179600d57addd8ec30_15</td>\n",
       "      <td>aldfly</td>\n",
       "    </tr>\n",
       "    <tr>\n",
       "      <th>22</th>\n",
       "      <td>site_1_5f743253e68f4e179600d57addd8ec30_20</td>\n",
       "      <td>aldfly</td>\n",
       "    </tr>\n",
       "    <tr>\n",
       "      <th>23</th>\n",
       "      <td>site_1_5f743253e68f4e179600d57addd8ec30_25</td>\n",
       "      <td>aldfly</td>\n",
       "    </tr>\n",
       "    <tr>\n",
       "      <th>24</th>\n",
       "      <td>site_1_5f743253e68f4e179600d57addd8ec30_30</td>\n",
       "      <td>aldfly</td>\n",
       "    </tr>\n",
       "    <tr>\n",
       "      <th>25</th>\n",
       "      <td>site_1_46af0b949cd34dfba379dfafcdfb0f74_5</td>\n",
       "      <td>aldfly</td>\n",
       "    </tr>\n",
       "    <tr>\n",
       "      <th>26</th>\n",
       "      <td>site_1_46af0b949cd34dfba379dfafcdfb0f74_10</td>\n",
       "      <td>aldfly</td>\n",
       "    </tr>\n",
       "    <tr>\n",
       "      <th>27</th>\n",
       "      <td>site_1_46af0b949cd34dfba379dfafcdfb0f74_15</td>\n",
       "      <td>nocall</td>\n",
       "    </tr>\n",
       "    <tr>\n",
       "      <th>28</th>\n",
       "      <td>site_1_46af0b949cd34dfba379dfafcdfb0f74_20</td>\n",
       "      <td>nocall</td>\n",
       "    </tr>\n",
       "    <tr>\n",
       "      <th>29</th>\n",
       "      <td>site_1_46af0b949cd34dfba379dfafcdfb0f74_25</td>\n",
       "      <td>aldfly</td>\n",
       "    </tr>\n",
       "    <tr>\n",
       "      <th>30</th>\n",
       "      <td>site_1_46af0b949cd34dfba379dfafcdfb0f74_30</td>\n",
       "      <td>aldfly</td>\n",
       "    </tr>\n",
       "    <tr>\n",
       "      <th>31</th>\n",
       "      <td>site_1_46af0b949cd34dfba379dfafcdfb0f74_35</td>\n",
       "      <td>aldfly</td>\n",
       "    </tr>\n",
       "    <tr>\n",
       "      <th>32</th>\n",
       "      <td>site_2_e919c290ad5247258ec8694a7fd5164e_5</td>\n",
       "      <td>aldfly</td>\n",
       "    </tr>\n",
       "    <tr>\n",
       "      <th>33</th>\n",
       "      <td>site_2_7b943f0f8e0643c9b6cdda337e6cf885_5</td>\n",
       "      <td>aldfly</td>\n",
       "    </tr>\n",
       "    <tr>\n",
       "      <th>34</th>\n",
       "      <td>site_2_7b943f0f8e0643c9b6cdda337e6cf885_10</td>\n",
       "      <td>aldfly</td>\n",
       "    </tr>\n",
       "    <tr>\n",
       "      <th>35</th>\n",
       "      <td>site_2_7b943f0f8e0643c9b6cdda337e6cf885_15</td>\n",
       "      <td>aldfly</td>\n",
       "    </tr>\n",
       "    <tr>\n",
       "      <th>36</th>\n",
       "      <td>site_2_7b943f0f8e0643c9b6cdda337e6cf885_20</td>\n",
       "      <td>aldfly</td>\n",
       "    </tr>\n",
       "    <tr>\n",
       "      <th>37</th>\n",
       "      <td>site_2_7b943f0f8e0643c9b6cdda337e6cf885_25</td>\n",
       "      <td>aldfly</td>\n",
       "    </tr>\n",
       "    <tr>\n",
       "      <th>38</th>\n",
       "      <td>site_2_7b943f0f8e0643c9b6cdda337e6cf885_30</td>\n",
       "      <td>aldfly</td>\n",
       "    </tr>\n",
       "    <tr>\n",
       "      <th>39</th>\n",
       "      <td>site_2_7b943f0f8e0643c9b6cdda337e6cf885_35</td>\n",
       "      <td>aldfly</td>\n",
       "    </tr>\n",
       "    <tr>\n",
       "      <th>40</th>\n",
       "      <td>site_2_7b943f0f8e0643c9b6cdda337e6cf885_40</td>\n",
       "      <td>aldfly</td>\n",
       "    </tr>\n",
       "    <tr>\n",
       "      <th>41</th>\n",
       "      <td>site_2_7b943f0f8e0643c9b6cdda337e6cf885_45</td>\n",
       "      <td>aldfly</td>\n",
       "    </tr>\n",
       "    <tr>\n",
       "      <th>42</th>\n",
       "      <td>site_2_7c76b5cfc1934453a1ccac1025b7bf3e_5</td>\n",
       "      <td>aldfly</td>\n",
       "    </tr>\n",
       "    <tr>\n",
       "      <th>43</th>\n",
       "      <td>site_2_7c76b5cfc1934453a1ccac1025b7bf3e_10</td>\n",
       "      <td>aldfly</td>\n",
       "    </tr>\n",
       "    <tr>\n",
       "      <th>44</th>\n",
       "      <td>site_2_7c76b5cfc1934453a1ccac1025b7bf3e_15</td>\n",
       "      <td>nocall</td>\n",
       "    </tr>\n",
       "    <tr>\n",
       "      <th>45</th>\n",
       "      <td>site_2_7c76b5cfc1934453a1ccac1025b7bf3e_20</td>\n",
       "      <td>nocall</td>\n",
       "    </tr>\n",
       "    <tr>\n",
       "      <th>46</th>\n",
       "      <td>site_2_7c76b5cfc1934453a1ccac1025b7bf3e_25</td>\n",
       "      <td>nocall</td>\n",
       "    </tr>\n",
       "    <tr>\n",
       "      <th>47</th>\n",
       "      <td>site_2_7c76b5cfc1934453a1ccac1025b7bf3e_30</td>\n",
       "      <td>aldfly</td>\n",
       "    </tr>\n",
       "    <tr>\n",
       "      <th>48</th>\n",
       "      <td>site_2_7c76b5cfc1934453a1ccac1025b7bf3e_35</td>\n",
       "      <td>nocall</td>\n",
       "    </tr>\n",
       "    <tr>\n",
       "      <th>49</th>\n",
       "      <td>site_2_7c76b5cfc1934453a1ccac1025b7bf3e_40</td>\n",
       "      <td>aldfly</td>\n",
       "    </tr>\n",
       "    <tr>\n",
       "      <th>50</th>\n",
       "      <td>site_2_7c76b5cfc1934453a1ccac1025b7bf3e_45</td>\n",
       "      <td>nocall</td>\n",
       "    </tr>\n",
       "    <tr>\n",
       "      <th>51</th>\n",
       "      <td>site_2_7c76b5cfc1934453a1ccac1025b7bf3e_50</td>\n",
       "      <td>aldfly</td>\n",
       "    </tr>\n",
       "    <tr>\n",
       "      <th>52</th>\n",
       "      <td>site_2_7c76b5cfc1934453a1ccac1025b7bf3e_55</td>\n",
       "      <td>nocall</td>\n",
       "    </tr>\n",
       "    <tr>\n",
       "      <th>53</th>\n",
       "      <td>site_2_7c76b5cfc1934453a1ccac1025b7bf3e_60</td>\n",
       "      <td>nocall</td>\n",
       "    </tr>\n",
       "    <tr>\n",
       "      <th>54</th>\n",
       "      <td>site_2_7c76b5cfc1934453a1ccac1025b7bf3e_65</td>\n",
       "      <td>aldfly</td>\n",
       "    </tr>\n",
       "    <tr>\n",
       "      <th>55</th>\n",
       "      <td>site_2_7c76b5cfc1934453a1ccac1025b7bf3e_70</td>\n",
       "      <td>nocall</td>\n",
       "    </tr>\n",
       "    <tr>\n",
       "      <th>56</th>\n",
       "      <td>site_2_9b797fa11c084f9f8438ab45e9da27b9_5</td>\n",
       "      <td>aldfly</td>\n",
       "    </tr>\n",
       "    <tr>\n",
       "      <th>57</th>\n",
       "      <td>site_2_9b797fa11c084f9f8438ab45e9da27b9_10</td>\n",
       "      <td>aldfly</td>\n",
       "    </tr>\n",
       "    <tr>\n",
       "      <th>58</th>\n",
       "      <td>site_2_9b797fa11c084f9f8438ab45e9da27b9_15</td>\n",
       "      <td>aldfly</td>\n",
       "    </tr>\n",
       "    <tr>\n",
       "      <th>59</th>\n",
       "      <td>site_2_9b797fa11c084f9f8438ab45e9da27b9_20</td>\n",
       "      <td>nocall</td>\n",
       "    </tr>\n",
       "    <tr>\n",
       "      <th>60</th>\n",
       "      <td>site_2_9b797fa11c084f9f8438ab45e9da27b9_25</td>\n",
       "      <td>aldfly</td>\n",
       "    </tr>\n",
       "    <tr>\n",
       "      <th>61</th>\n",
       "      <td>site_2_d7c92c074ebf46ca835cd808792e9ba5_5</td>\n",
       "      <td>aldfly</td>\n",
       "    </tr>\n",
       "    <tr>\n",
       "      <th>62</th>\n",
       "      <td>site_2_d7c92c074ebf46ca835cd808792e9ba5_10</td>\n",
       "      <td>aldfly</td>\n",
       "    </tr>\n",
       "    <tr>\n",
       "      <th>63</th>\n",
       "      <td>site_2_d7c92c074ebf46ca835cd808792e9ba5_15</td>\n",
       "      <td>nocall</td>\n",
       "    </tr>\n",
       "    <tr>\n",
       "      <th>64</th>\n",
       "      <td>site_2_d7c92c074ebf46ca835cd808792e9ba5_20</td>\n",
       "      <td>aldfly</td>\n",
       "    </tr>\n",
       "    <tr>\n",
       "      <th>65</th>\n",
       "      <td>site_2_d7c92c074ebf46ca835cd808792e9ba5_25</td>\n",
       "      <td>nocall</td>\n",
       "    </tr>\n",
       "    <tr>\n",
       "      <th>66</th>\n",
       "      <td>site_2_d7c92c074ebf46ca835cd808792e9ba5_30</td>\n",
       "      <td>nocall</td>\n",
       "    </tr>\n",
       "    <tr>\n",
       "      <th>67</th>\n",
       "      <td>site_2_d7c92c074ebf46ca835cd808792e9ba5_35</td>\n",
       "      <td>aldfly</td>\n",
       "    </tr>\n",
       "    <tr>\n",
       "      <th>68</th>\n",
       "      <td>site_2_d7c92c074ebf46ca835cd808792e9ba5_40</td>\n",
       "      <td>nocall</td>\n",
       "    </tr>\n",
       "    <tr>\n",
       "      <th>69</th>\n",
       "      <td>site_2_d7c92c074ebf46ca835cd808792e9ba5_45</td>\n",
       "      <td>nocall</td>\n",
       "    </tr>\n",
       "    <tr>\n",
       "      <th>70</th>\n",
       "      <td>site_2_d7c92c074ebf46ca835cd808792e9ba5_50</td>\n",
       "      <td>nocall</td>\n",
       "    </tr>\n",
       "    <tr>\n",
       "      <th>71</th>\n",
       "      <td>site_3_85d81e2ac78a4b66899281670c430602</td>\n",
       "      <td>aldfly</td>\n",
       "    </tr>\n",
       "    <tr>\n",
       "      <th>72</th>\n",
       "      <td>site_3_a636a026d87b440d95d00e848d0a5964</td>\n",
       "      <td>aldfly</td>\n",
       "    </tr>\n",
       "    <tr>\n",
       "      <th>73</th>\n",
       "      <td>site_3_1d81dd5c30724617bde0df7d4645f624</td>\n",
       "      <td>ameavo,tunswa,killde,wesgre,balori,osprey,snog...</td>\n",
       "    </tr>\n",
       "    <tr>\n",
       "      <th>74</th>\n",
       "      <td>site_3_c00974a8bbb04429acee2c6572f5dd1d</td>\n",
       "      <td>aldfly</td>\n",
       "    </tr>\n",
       "    <tr>\n",
       "      <th>75</th>\n",
       "      <td>site_3_2381d43712444a89a3d69ff0ccaf5d23</td>\n",
       "      <td>ameavo,killde</td>\n",
       "    </tr>\n",
       "  </tbody>\n",
       "</table>\n",
       "</div>"
      ],
      "text/plain": [
       "                                        row_id  \\\n",
       "0    site_1_b87d141f6dc24f69a51cdb5973fcd68a_5   \n",
       "1   site_1_b87d141f6dc24f69a51cdb5973fcd68a_10   \n",
       "2   site_1_b87d141f6dc24f69a51cdb5973fcd68a_15   \n",
       "3   site_1_b87d141f6dc24f69a51cdb5973fcd68a_20   \n",
       "4   site_1_b87d141f6dc24f69a51cdb5973fcd68a_25   \n",
       "5    site_1_8e2380fc2c1348c2b859fb624300cb36_5   \n",
       "6   site_1_8e2380fc2c1348c2b859fb624300cb36_10   \n",
       "7   site_1_8e2380fc2c1348c2b859fb624300cb36_15   \n",
       "8   site_1_8e2380fc2c1348c2b859fb624300cb36_20   \n",
       "9   site_1_8e2380fc2c1348c2b859fb624300cb36_25   \n",
       "10  site_1_8e2380fc2c1348c2b859fb624300cb36_30   \n",
       "11  site_1_8e2380fc2c1348c2b859fb624300cb36_35   \n",
       "12   site_1_2ee43f12169e46f2aa5c89164c29bbb2_5   \n",
       "13  site_1_2ee43f12169e46f2aa5c89164c29bbb2_10   \n",
       "14  site_1_2ee43f12169e46f2aa5c89164c29bbb2_15   \n",
       "15  site_1_2ee43f12169e46f2aa5c89164c29bbb2_20   \n",
       "16  site_1_2ee43f12169e46f2aa5c89164c29bbb2_25   \n",
       "17  site_1_2ee43f12169e46f2aa5c89164c29bbb2_30   \n",
       "18  site_1_2ee43f12169e46f2aa5c89164c29bbb2_35   \n",
       "19   site_1_5f743253e68f4e179600d57addd8ec30_5   \n",
       "20  site_1_5f743253e68f4e179600d57addd8ec30_10   \n",
       "21  site_1_5f743253e68f4e179600d57addd8ec30_15   \n",
       "22  site_1_5f743253e68f4e179600d57addd8ec30_20   \n",
       "23  site_1_5f743253e68f4e179600d57addd8ec30_25   \n",
       "24  site_1_5f743253e68f4e179600d57addd8ec30_30   \n",
       "25   site_1_46af0b949cd34dfba379dfafcdfb0f74_5   \n",
       "26  site_1_46af0b949cd34dfba379dfafcdfb0f74_10   \n",
       "27  site_1_46af0b949cd34dfba379dfafcdfb0f74_15   \n",
       "28  site_1_46af0b949cd34dfba379dfafcdfb0f74_20   \n",
       "29  site_1_46af0b949cd34dfba379dfafcdfb0f74_25   \n",
       "30  site_1_46af0b949cd34dfba379dfafcdfb0f74_30   \n",
       "31  site_1_46af0b949cd34dfba379dfafcdfb0f74_35   \n",
       "32   site_2_e919c290ad5247258ec8694a7fd5164e_5   \n",
       "33   site_2_7b943f0f8e0643c9b6cdda337e6cf885_5   \n",
       "34  site_2_7b943f0f8e0643c9b6cdda337e6cf885_10   \n",
       "35  site_2_7b943f0f8e0643c9b6cdda337e6cf885_15   \n",
       "36  site_2_7b943f0f8e0643c9b6cdda337e6cf885_20   \n",
       "37  site_2_7b943f0f8e0643c9b6cdda337e6cf885_25   \n",
       "38  site_2_7b943f0f8e0643c9b6cdda337e6cf885_30   \n",
       "39  site_2_7b943f0f8e0643c9b6cdda337e6cf885_35   \n",
       "40  site_2_7b943f0f8e0643c9b6cdda337e6cf885_40   \n",
       "41  site_2_7b943f0f8e0643c9b6cdda337e6cf885_45   \n",
       "42   site_2_7c76b5cfc1934453a1ccac1025b7bf3e_5   \n",
       "43  site_2_7c76b5cfc1934453a1ccac1025b7bf3e_10   \n",
       "44  site_2_7c76b5cfc1934453a1ccac1025b7bf3e_15   \n",
       "45  site_2_7c76b5cfc1934453a1ccac1025b7bf3e_20   \n",
       "46  site_2_7c76b5cfc1934453a1ccac1025b7bf3e_25   \n",
       "47  site_2_7c76b5cfc1934453a1ccac1025b7bf3e_30   \n",
       "48  site_2_7c76b5cfc1934453a1ccac1025b7bf3e_35   \n",
       "49  site_2_7c76b5cfc1934453a1ccac1025b7bf3e_40   \n",
       "50  site_2_7c76b5cfc1934453a1ccac1025b7bf3e_45   \n",
       "51  site_2_7c76b5cfc1934453a1ccac1025b7bf3e_50   \n",
       "52  site_2_7c76b5cfc1934453a1ccac1025b7bf3e_55   \n",
       "53  site_2_7c76b5cfc1934453a1ccac1025b7bf3e_60   \n",
       "54  site_2_7c76b5cfc1934453a1ccac1025b7bf3e_65   \n",
       "55  site_2_7c76b5cfc1934453a1ccac1025b7bf3e_70   \n",
       "56   site_2_9b797fa11c084f9f8438ab45e9da27b9_5   \n",
       "57  site_2_9b797fa11c084f9f8438ab45e9da27b9_10   \n",
       "58  site_2_9b797fa11c084f9f8438ab45e9da27b9_15   \n",
       "59  site_2_9b797fa11c084f9f8438ab45e9da27b9_20   \n",
       "60  site_2_9b797fa11c084f9f8438ab45e9da27b9_25   \n",
       "61   site_2_d7c92c074ebf46ca835cd808792e9ba5_5   \n",
       "62  site_2_d7c92c074ebf46ca835cd808792e9ba5_10   \n",
       "63  site_2_d7c92c074ebf46ca835cd808792e9ba5_15   \n",
       "64  site_2_d7c92c074ebf46ca835cd808792e9ba5_20   \n",
       "65  site_2_d7c92c074ebf46ca835cd808792e9ba5_25   \n",
       "66  site_2_d7c92c074ebf46ca835cd808792e9ba5_30   \n",
       "67  site_2_d7c92c074ebf46ca835cd808792e9ba5_35   \n",
       "68  site_2_d7c92c074ebf46ca835cd808792e9ba5_40   \n",
       "69  site_2_d7c92c074ebf46ca835cd808792e9ba5_45   \n",
       "70  site_2_d7c92c074ebf46ca835cd808792e9ba5_50   \n",
       "71     site_3_85d81e2ac78a4b66899281670c430602   \n",
       "72     site_3_a636a026d87b440d95d00e848d0a5964   \n",
       "73     site_3_1d81dd5c30724617bde0df7d4645f624   \n",
       "74     site_3_c00974a8bbb04429acee2c6572f5dd1d   \n",
       "75     site_3_2381d43712444a89a3d69ff0ccaf5d23   \n",
       "\n",
       "                                                birds  \n",
       "0                                              aldfly  \n",
       "1                                              nocall  \n",
       "2                                              aldfly  \n",
       "3                                              nocall  \n",
       "4                                              aldfly  \n",
       "5                                              aldfly  \n",
       "6                                              wilfly  \n",
       "7                                              nocall  \n",
       "8                                              aldfly  \n",
       "9                                              nocall  \n",
       "10                                             aldfly  \n",
       "11                                             aldfly  \n",
       "12                                             aldfly  \n",
       "13                                             aldfly  \n",
       "14                                             aldfly  \n",
       "15                                             aldfly  \n",
       "16                                             aldfly  \n",
       "17                                             aldfly  \n",
       "18                                             aldfly  \n",
       "19                                             aldfly  \n",
       "20                                             aldfly  \n",
       "21                                             aldfly  \n",
       "22                                             aldfly  \n",
       "23                                             aldfly  \n",
       "24                                             aldfly  \n",
       "25                                             aldfly  \n",
       "26                                             aldfly  \n",
       "27                                             nocall  \n",
       "28                                             nocall  \n",
       "29                                             aldfly  \n",
       "30                                             aldfly  \n",
       "31                                             aldfly  \n",
       "32                                             aldfly  \n",
       "33                                             aldfly  \n",
       "34                                             aldfly  \n",
       "35                                             aldfly  \n",
       "36                                             aldfly  \n",
       "37                                             aldfly  \n",
       "38                                             aldfly  \n",
       "39                                             aldfly  \n",
       "40                                             aldfly  \n",
       "41                                             aldfly  \n",
       "42                                             aldfly  \n",
       "43                                             aldfly  \n",
       "44                                             nocall  \n",
       "45                                             nocall  \n",
       "46                                             nocall  \n",
       "47                                             aldfly  \n",
       "48                                             nocall  \n",
       "49                                             aldfly  \n",
       "50                                             nocall  \n",
       "51                                             aldfly  \n",
       "52                                             nocall  \n",
       "53                                             nocall  \n",
       "54                                             aldfly  \n",
       "55                                             nocall  \n",
       "56                                             aldfly  \n",
       "57                                             aldfly  \n",
       "58                                             aldfly  \n",
       "59                                             nocall  \n",
       "60                                             aldfly  \n",
       "61                                             aldfly  \n",
       "62                                             aldfly  \n",
       "63                                             nocall  \n",
       "64                                             aldfly  \n",
       "65                                             nocall  \n",
       "66                                             nocall  \n",
       "67                                             aldfly  \n",
       "68                                             nocall  \n",
       "69                                             nocall  \n",
       "70                                             nocall  \n",
       "71                                             aldfly  \n",
       "72                                             aldfly  \n",
       "73  ameavo,tunswa,killde,wesgre,balori,osprey,snog...  \n",
       "74                                             aldfly  \n",
       "75                                      ameavo,killde  "
      ]
     },
     "execution_count": 15,
     "metadata": {},
     "output_type": "execute_result"
    }
   ],
   "source": [
    "submission.to_csv('sub.csv', index=False)\n",
    "pd.set_option('display.max_rows', None)\n",
    "submission"
   ]
  },
  {
   "cell_type": "code",
   "execution_count": null,
   "metadata": {},
   "outputs": [],
   "source": []
  },
  {
   "cell_type": "code",
   "execution_count": null,
   "metadata": {},
   "outputs": [],
   "source": []
  },
  {
   "cell_type": "code",
   "execution_count": null,
   "metadata": {},
   "outputs": [],
   "source": []
  },
  {
   "cell_type": "code",
   "execution_count": null,
   "metadata": {},
   "outputs": [],
   "source": []
  }
 ],
 "metadata": {
  "kernelspec": {
   "display_name": "Python 3",
   "language": "python",
   "name": "python3"
  },
  "language_info": {
   "codemirror_mode": {
    "name": "ipython",
    "version": 3
   },
   "file_extension": ".py",
   "mimetype": "text/x-python",
   "name": "python",
   "nbconvert_exporter": "python",
   "pygments_lexer": "ipython3",
   "version": "3.6.9"
  }
 },
 "nbformat": 4,
 "nbformat_minor": 4
}
